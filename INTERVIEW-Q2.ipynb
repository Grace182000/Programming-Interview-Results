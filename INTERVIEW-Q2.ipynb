{
 "cells": [
  {
   "cell_type": "markdown",
   "id": "foster-custody",
   "metadata": {},
   "source": [
    "**<font size = 5> Question 2 - Ruisi GENG**"
   ]
  },
  {
   "cell_type": "markdown",
   "id": "numerical-highlight",
   "metadata": {},
   "source": [
    "**Question 2 - 1**\n",
    " \n",
    " \n",
    "_The four equations for the rate of changes in the four species, E, S, ES and P;_"
   ]
  },
  {
   "cell_type": "markdown",
   "id": "pursuant-quality",
   "metadata": {},
   "source": [
    "<img src = \"./Q2-1.png\" width=250 height=400 align = left />"
   ]
  },
  {
   "cell_type": "markdown",
   "id": "musical-assist",
   "metadata": {},
   "source": [
    "**Question 2 - 2**\n",
    "\n",
    "\n",
    "_Runge-Kutta method of order 4, \"RK4\"_"
   ]
  },
  {
   "cell_type": "markdown",
   "id": "disciplinary-midnight",
   "metadata": {},
   "source": [
    "<img src = \"./Q2-2.png\" width=1000 height=400 align = left />"
   ]
  },
  {
   "cell_type": "code",
   "execution_count": 1,
   "id": "promising-monte",
   "metadata": {},
   "outputs": [],
   "source": [
    "import math\n",
    "import matplotlib.pyplot as plt\n",
    "import numpy as np"
   ]
  },
  {
   "cell_type": "code",
   "execution_count": 2,
   "id": "adverse-wholesale",
   "metadata": {},
   "outputs": [],
   "source": [
    "def pend(x,y):\n",
    "    return np.array(750*x - 100*y)\n",
    "    return np.array(600*x - 100*y)\n",
    "    return np.array(100*y - 750*x)\n",
    "    return np.array(150*x)"
   ]
  },
  {
   "cell_type": "code",
   "execution_count": 3,
   "id": "fresh-missile",
   "metadata": {},
   "outputs": [],
   "source": [
    "def fork(x, y):\n",
    "    return ((x - y)/2)\n",
    " \n",
    "# Initial value y0 at x0\n",
    "def rungeKutta(x0, y0, x, h):\n",
    "    n = (int)((x - x0)/h)\n",
    "    # Iterate for number of iterations\n",
    "    y = y0\n",
    "    for i in range(1, n + 1):\n",
    "        \"Apply Runge Kutta Formulas to find next value of y\"\n",
    "        k1 = h * fork(x0, y)\n",
    "        k2 = h * fork(x0 + 0.5 * h, y + 0.5 * k1)\n",
    "        k3 = h * fork(x0 + 0.5 * h, y + 0.5 * k2)\n",
    "        k4 = h * fork(x0 + h, y + k3)\n",
    " \n",
    "        # Update next value of y\n",
    "        y = y + (1.0 / 6.0)*(k1 + 2 * k2 + 2 * k3 + k4)\n",
    " \n",
    "        # Update next value of x\n",
    "        x0 = x0 + h\n",
    "    return y"
   ]
  },
  {
   "cell_type": "code",
   "execution_count": 4,
   "id": "adaptive-westminster",
   "metadata": {},
   "outputs": [
    {
     "name": "stdout",
     "output_type": "stream",
     "text": [
      "The value of y at x is: 1.1036393232374955\n"
     ]
    }
   ],
   "source": [
    "# Driver method\n",
    "x0 = 0\n",
    "y = 1\n",
    "x = 2\n",
    "h = 0.2\n",
    "print( 'The value of y at x is:', rungeKutta(x0, y, x, h))"
   ]
  },
  {
   "cell_type": "code",
   "execution_count": 5,
   "id": "genetic-mixer",
   "metadata": {},
   "outputs": [],
   "source": [
    "#Function\n",
    "dy =  lambda x,y: math.sin(x)**2*y\n",
    "f = lambda x: 2*math.exp(0.5*(x-math.sin(x)*math.cos(x)))"
   ]
  },
  {
   "cell_type": "code",
   "execution_count": 6,
   "id": "functional-bridges",
   "metadata": {},
   "outputs": [],
   "source": [
    "#Initialization\n",
    "xi=0;\n",
    "xf=5;\n",
    "h=0.5;#step size h\n",
    "n=int((xf-xi)/h)\n",
    "x=0;\n",
    "y=1;"
   ]
  },
  {
   "cell_type": "code",
   "execution_count": 7,
   "id": "proud-outline",
   "metadata": {},
   "outputs": [
    {
     "name": "stdout",
     "output_type": "stream",
     "text": [
      "x                y                f(x)\n",
      "0.000000  1.000000  2.000000\n"
     ]
    }
   ],
   "source": [
    "#Visualization\n",
    "print('x                y                f(x)')\n",
    "print('%f  %f  %f'% (x,y,f(x)))\n",
    "x_plot=[]\n",
    "y_rk4=[]\n",
    "y_analytical=[]"
   ]
  },
  {
   "cell_type": "code",
   "execution_count": 8,
   "id": "cordless-brooklyn",
   "metadata": {},
   "outputs": [
    {
     "name": "stdout",
     "output_type": "stream",
     "text": [
      "0.500000 \t 1.040308 \t 2.080856\n",
      "1.000000 \t 1.313276 \t 2.626948\n",
      "1.500000 \t 2.043047 \t 4.087229\n",
      "2.000000 \t 3.283009 \t 6.568909\n",
      "2.500000 \t 4.433762 \t 8.871805\n",
      "3.000000 \t 4.803204 \t 9.611892\n",
      "3.500000 \t 4.879534 \t 9.765937\n",
      "4.000000 \t 5.765599 \t 11.539866\n",
      "4.500000 \t 8.551722 \t 17.117778\n",
      "5.000000 \t 13.943129 \t 27.914673\n"
     ]
    }
   ],
   "source": [
    "#Fourth-order Runge Kutta method\n",
    "for i in range (1, n+1):\n",
    "    x_plot.append(x);y_rk4.append(y);y_analytical.append(f(x))\n",
    "    k1=dy(x,y)\n",
    "    k2=dy(x+h/2,y+k1*h/2)\n",
    "    k3=dy(x+h/2,y+k2*h/2)\n",
    "    k4=dy(x+h,y+k3*h)\n",
    "    y=y+1/6*(k1+2*k2+2*k3+k4)*h\n",
    "    x=x+h\n",
    "    print('%f \\t %f \\t %f' % (x,y,f(x)))"
   ]
  },
  {
   "cell_type": "code",
   "execution_count": 9,
   "id": "academic-handbook",
   "metadata": {},
   "outputs": [
    {
     "name": "stderr",
     "output_type": "stream",
     "text": [
      "<ipython-input-9-d59e7b1baba7>:6: UserWarning: Legend does not support 'r' instances.\n",
      "A proxy artist may be used instead.\n",
      "See: https://matplotlib.org/users/legend_guide.html#creating-artists-specifically-for-adding-to-the-legend-aka-proxy-artists\n",
      "  plt.legend(\"rnk4\",'analytical')\n",
      "<ipython-input-9-d59e7b1baba7>:6: UserWarning: Legend does not support 'n' instances.\n",
      "A proxy artist may be used instead.\n",
      "See: https://matplotlib.org/users/legend_guide.html#creating-artists-specifically-for-adding-to-the-legend-aka-proxy-artists\n",
      "  plt.legend(\"rnk4\",'analytical')\n",
      "<ipython-input-9-d59e7b1baba7>:6: UserWarning: Legend does not support 'k' instances.\n",
      "A proxy artist may be used instead.\n",
      "See: https://matplotlib.org/users/legend_guide.html#creating-artists-specifically-for-adding-to-the-legend-aka-proxy-artists\n",
      "  plt.legend(\"rnk4\",'analytical')\n",
      "<ipython-input-9-d59e7b1baba7>:6: UserWarning: Legend does not support '4' instances.\n",
      "A proxy artist may be used instead.\n",
      "See: https://matplotlib.org/users/legend_guide.html#creating-artists-specifically-for-adding-to-the-legend-aka-proxy-artists\n",
      "  plt.legend(\"rnk4\",'analytical')\n"
     ]
    },
    {
     "data": {
      "text/plain": [
       "<matplotlib.legend.Legend at 0x1586f3bea00>"
      ]
     },
     "execution_count": 9,
     "metadata": {},
     "output_type": "execute_result"
    },
    {
     "data": {
      "image/png": "[encoded data removed]",
      "text/plain": [
       "<Figure size 432x288 with 1 Axes>"
      ]
     },
     "metadata": {
      "needs_background": "light"
     },
     "output_type": "display_data"
    }
   ],
   "source": [
    "#Visualization code\n",
    "x_plot.append(x);y_rk4.append(y);y_analytical.append(f(x))\n",
    "plt.plot(x_plot,y_rk4,'ro',x_plot,y_analytical)\n",
    "plt.xlabel(\"x\")\n",
    "plt.ylabel(\"y\")\n",
    "plt.legend(\"rnk4\",'analytical')"
   ]
  }
 ],
 "metadata": {
  "kernelspec": {
   "display_name": "Python 3",
   "language": "python",
   "name": "python3"
  },
  "language_info": {
   "codemirror_mode": {
    "name": "ipython",
    "version": 3
   },
   "file_extension": ".py",
   "mimetype": "text/x-python",
   "name": "python",
   "nbconvert_exporter": "python",
   "pygments_lexer": "ipython3",
   "version": "3.8.5"
  },
  "toc": {
   "base_numbering": 1,
   "nav_menu": {},
   "number_sections": true,
   "sideBar": true,
   "skip_h1_title": false,
   "title_cell": "Table of Contents",
   "title_sidebar": "Contents",
   "toc_cell": false,
   "toc_position": {},
   "toc_section_display": true,
   "toc_window_display": false
  }
 },
 "nbformat": 4,
 "nbformat_minor": 5
}
